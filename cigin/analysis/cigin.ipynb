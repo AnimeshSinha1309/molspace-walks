{
 "cells": [
  {
   "cell_type": "code",
   "execution_count": 1,
   "metadata": {
    "pycharm": {
     "name": "#%%\n"
    }
   },
   "outputs": [],
   "source": [
    "import matplotlib.pyplot as plt\n",
    "import seaborn as sns\n",
    "\n",
    "from rdkit import Chem\n",
    "import torch"
   ]
  },
  {
   "cell_type": "code",
   "execution_count": 2,
   "metadata": {
    "pycharm": {
     "name": "#%%\n"
    }
   },
   "outputs": [],
   "source": [
    "import cigin"
   ]
  },
  {
   "cell_type": "markdown",
   "metadata": {
    "pycharm": {
     "name": "#%% md\n"
    }
   },
   "source": [
    "## Loading the model"
   ]
  },
  {
   "cell_type": "code",
   "execution_count": 6,
   "metadata": {
    "pycharm": {
     "name": "#%%\n"
    }
   },
   "outputs": [
    {
     "data": {
      "text/plain": "CIGINModel(\n  (solute_gather): GatherModel(\n    (lin0): Linear(in_features=42, out_features=42, bias=True)\n    (set2set): Set2Set(\n      n_iters=2\n      (lstm): LSTM(84, 42)\n    )\n    (message_layer): Linear(in_features=84, out_features=42, bias=True)\n    (conv): NNConv(\n      (edge_func): Sequential(\n        (0): Linear(in_features=10, out_features=10, bias=True)\n        (1): ReLU()\n        (2): Linear(in_features=10, out_features=1764, bias=True)\n      )\n      (res_fc): Identity()\n    )\n  )\n  (solvent_gather): GatherModel(\n    (lin0): Linear(in_features=42, out_features=42, bias=True)\n    (set2set): Set2Set(\n      n_iters=2\n      (lstm): LSTM(84, 42)\n    )\n    (message_layer): Linear(in_features=84, out_features=42, bias=True)\n    (conv): NNConv(\n      (edge_func): Sequential(\n        (0): Linear(in_features=10, out_features=10, bias=True)\n        (1): ReLU()\n        (2): Linear(in_features=10, out_features=1764, bias=True)\n      )\n      (res_fc): Identity()\n    )\n  )\n  (fc1): Linear(in_features=336, out_features=256, bias=True)\n  (fc2): Linear(in_features=256, out_features=128, bias=True)\n  (fc3): Linear(in_features=128, out_features=1, bias=True)\n  (imap): Linear(in_features=80, out_features=1, bias=True)\n  (set2set_solute): Set2Set(\n    n_iters=2\n    (lstm): LSTM(168, 84)\n  )\n  (set2set_solvent): Set2Set(\n    n_iters=2\n    (lstm): LSTM(168, 84)\n  )\n)"
     },
     "execution_count": 6,
     "metadata": {},
     "output_type": "execute_result"
    }
   ],
   "source": [
    "device = \"cuda\" if torch.cuda.is_available() else \"cpu\"\n",
    "\n",
    "model = cigin.model.CIGINModel().to(device)\n",
    "model.load_state_dict(torch.load('../weights/best_model.pth'))\n",
    "model.eval()"
   ]
  },
  {
   "cell_type": "markdown",
   "metadata": {
    "pycharm": {
     "name": "#%% md\n"
    }
   },
   "source": [
    "### Predicting free energy of solvation"
   ]
  },
  {
   "cell_type": "code",
   "execution_count": 7,
   "outputs": [],
   "source": [
    "solute = 'CC(=O)C'\n",
    "solvent = 'C1=CC=C(C=C1)O'\n",
    "data = cigin.dataset.data_to_loader(solute, solvent)"
   ],
   "metadata": {
    "collapsed": false,
    "pycharm": {
     "name": "#%%\n"
    }
   }
  },
  {
   "cell_type": "code",
   "execution_count": 8,
   "metadata": {
    "pycharm": {
     "name": "#%%\n"
    }
   },
   "outputs": [
    {
     "name": "stdout",
     "output_type": "stream",
     "text": [
      "Predicted free energy of solvation:  -4.293814182281494\n"
     ]
    },
    {
     "name": "stderr",
     "output_type": "stream",
     "text": [
      "/home/animesh/.conda/envs/molspace-walks/lib/python3.7/site-packages/ipykernel_launcher.py:4: UserWarning: To copy construct from a tensor, it is recommended to use sourceTensor.clone().detach() or sourceTensor.clone().detach().requires_grad_(True), rather than torch.tensor(sourceTensor).\n",
      "  after removing the cwd from sys.path.\n",
      "/home/animesh/.conda/envs/molspace-walks/lib/python3.7/site-packages/ipykernel_launcher.py:5: UserWarning: To copy construct from a tensor, it is recommended to use sourceTensor.clone().detach() or sourceTensor.clone().detach().requires_grad_(True), rather than torch.tensor(sourceTensor).\n",
      "  \"\"\"\n"
     ]
    }
   ],
   "source": [
    "delta_g, interaction_map = model(\n",
    "    data[0].to(device),\n",
    "    data[1].to(device),\n",
    "    torch.tensor(data[2]).to(device),\n",
    "    torch.tensor(data[3]).to(device),\n",
    ")\n",
    "\n",
    "interaction_map = interaction_map.cpu().detach()\n",
    "delta_g = delta_g.cpu().detach()\n",
    "\n",
    "print(\"Predicted free energy of solvation: \",str(delta_g.item()))"
   ]
  },
  {
   "cell_type": "markdown",
   "metadata": {
    "pycharm": {
     "name": "#%% md\n"
    }
   },
   "source": [
    "### Analysis of interaction map"
   ]
  },
  {
   "cell_type": "code",
   "execution_count": 9,
   "metadata": {
    "pycharm": {
     "name": "#%%\n"
    }
   },
   "outputs": [],
   "source": [
    "# Applying min max normalization across the interaction map\n",
    "\n",
    "min_value = min(interaction_map.flatten())\n",
    "max_value = max(interaction_map.flatten())\n",
    "interaction_map = ((interaction_map-min_value)/(max_value-min_value))"
   ]
  },
  {
   "cell_type": "markdown",
   "metadata": {
    "pycharm": {
     "name": "#%% md\n"
    }
   },
   "source": [
    "### Solute"
   ]
  },
  {
   "cell_type": "code",
   "execution_count": 10,
   "outputs": [
    {
     "data": {
      "text/plain": "<rdkit.Chem.rdchem.Mol at 0x7f29184902b0>",
      "image/png": "[encoded data removed]"
     },
     "execution_count": 10,
     "metadata": {},
     "output_type": "execute_result"
    }
   ],
   "source": [
    "Chem.MolFromSmiles(\"OC(C)C\")"
   ],
   "metadata": {
    "collapsed": false,
    "pycharm": {
     "name": "#%%\n"
    }
   }
  },
  {
   "cell_type": "code",
   "execution_count": 11,
   "metadata": {
    "pycharm": {
     "name": "#%%\n"
    }
   },
   "outputs": [
    {
     "data": {
      "text/plain": "<rdkit.Chem.rdchem.Mol at 0x7f2918490350>",
      "image/png": "[encoded data removed]"
     },
     "execution_count": 11,
     "metadata": {},
     "output_type": "execute_result"
    }
   ],
   "source": [
    "Chem.MolFromSmiles(solute) #OCCN"
   ]
  },
  {
   "cell_type": "markdown",
   "metadata": {
    "pycharm": {
     "name": "#%% md\n"
    }
   },
   "source": [
    "### Solvent"
   ]
  },
  {
   "cell_type": "code",
   "execution_count": 12,
   "metadata": {
    "pycharm": {
     "name": "#%%\n"
    }
   },
   "outputs": [
    {
     "data": {
      "text/plain": "<rdkit.Chem.rdchem.Mol at 0x7f29184c3c10>",
      "image/png": "[encoded data removed]"
     },
     "execution_count": 12,
     "metadata": {},
     "output_type": "execute_result"
    }
   ],
   "source": [
    "Chem.MolFromSmiles(solvent) #OCC"
   ]
  },
  {
   "cell_type": "markdown",
   "metadata": {
    "pycharm": {
     "name": "#%% md\n"
    }
   },
   "source": [
    "### Interaction map"
   ]
  },
  {
   "cell_type": "code",
   "execution_count": 14,
   "metadata": {
    "pycharm": {
     "name": "#%%\n"
    }
   },
   "outputs": [
    {
     "data": {
      "text/plain": "Text(0.5, 15.0, 'Solvent')"
     },
     "execution_count": 14,
     "metadata": {},
     "output_type": "execute_result"
    },
    {
     "data": {
      "text/plain": "<Figure size 432x288 with 2 Axes>",
      "image/png": "[encoded data removed]"
     },
     "metadata": {},
     "output_type": "display_data"
    }
   ],
   "source": [
    "sns.heatmap(\n",
    "    interaction_map,\n",
    "    annot=True,\n",
    "    xticklabels=list(map(lambda x: x.GetSymbol(), list(Chem.MolFromSmiles(solvent).GetAtoms()))),\n",
    "    yticklabels=list(map(lambda x: x.GetSymbol(), list(Chem.MolFromSmiles(solute).GetAtoms()))),\n",
    "    cmap='viridis'\n",
    ")\n",
    "plt.ylabel('Solute',size='15')\n",
    "plt.xlabel('Solvent',size='15')"
   ]
  }
 ],
 "metadata": {
  "kernelspec": {
   "display_name": "Python 3",
   "language": "python",
   "name": "python3"
  },
  "language_info": {
   "codemirror_mode": {
    "name": "ipython",
    "version": 3
   },
   "file_extension": ".py",
   "mimetype": "text/x-python",
   "name": "python",
   "nbconvert_exporter": "python",
   "pygments_lexer": "ipython3",
   "version": "3.7.3"
  }
 },
 "nbformat": 4,
 "nbformat_minor": 2
}